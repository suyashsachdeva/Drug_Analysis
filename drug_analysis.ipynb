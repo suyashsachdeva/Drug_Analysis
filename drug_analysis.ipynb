{
 "cells": [
  {
   "cell_type": "code",
   "execution_count": null,
   "metadata": {},
   "outputs": [],
   "source": [
    "import tensorflow as tf \n",
    "import tensorflow.keras.layers as layers\n",
    "import tensorflow.keras.models as models\n",
    "import tensorflow.keras.optimizers as optim\n",
    "\n",
    "import pandas as pd \n",
    "import numpy as np \n",
    "import os"
   ]
  },
  {
   "cell_type": "code",
   "execution_count": null,
   "metadata": {},
   "outputs": [],
   "source": [
    "PATH = r'.../tox21_dense_train.csv'\n",
    "data = pd.read_csv(PATH).values\n",
    "labels = pd.read_csv(PATH).columns\n",
    "labels"
   ]
  },
  {
   "cell_type": "code",
   "execution_count": null,
   "metadata": {},
   "outputs": [],
   "source": [
    "for x in range(799):\n",
    "    if max(data[:, 3:][:, x])!=min(data[:, 3:][:, x]):\n",
    "        xtr = (data[:, 3:][:, x]-np.mean(data[:, 3:][:, x]))/(max(data[:, 3:][:, x])-min(data[:, 3:][:, x]))\n",
    "        data[:, 3:][:, x] = xtr\n",
    "    else:\n",
    "        xtr = (data[:, 3:][:, x])/(max(data[:, 3:][:, x])+min(data[:, 3:][:, x])+1e-10)+0.5\n",
    "        data[:, 3:][:, x] = xtr"
   ]
  },
  {
   "cell_type": "code",
   "execution_count": null,
   "metadata": {},
   "outputs": [],
   "source": [
    "data = data[:, 3:]"
   ]
  },
  {
   "cell_type": "code",
   "execution_count": null,
   "metadata": {},
   "outputs": [],
   "source": [
    "xtrain = np.array(data[:10000], dtype=\"float32\")\n",
    "xvalid = np.array(data[10000:12000], dtype=\"float32\")"
   ]
  },
  {
   "cell_type": "code",
   "execution_count": null,
   "metadata": {},
   "outputs": [],
   "source": [
    "def DenseBlock(x, ndim):\n",
    "    x = layers.Dense(ndim)(x)\n",
    "    x = layers.BatchNormalization(momentum=0.5)(x)\n",
    "    x = layers.LeakyReLU(0.2)(x)\n",
    "    return  x\n",
    "\n",
    "def autoencoder(inp):\n",
    "    inp = layers.Input(inp)\n",
    "    x = DenseBlock(inp, 256)\n",
    "    enc_out = DenseBlock(x, 100)\n",
    "    x = DenseBlock(enc_out, 256)\n",
    "    dec_out = DenseBlock(x, 799)\n",
    "    encoder = models.Model(inputs=inp, outputs=enc_out, name=\"Encoder\")\n",
    "    model = models.Model(inputs=inp, outputs=dec_out, name=\"Autoencoder\")\n",
    "\n",
    "    return encoder, model\n",
    "\n",
    "encoder, model = autoencoder((799))\n",
    "print(encoder.summary())\n",
    "print(model.summary())"
   ]
  },
  {
   "cell_type": "code",
   "execution_count": null,
   "metadata": {},
   "outputs": [],
   "source": [
    "model.compile(loss='mse', optimizer=\"adam\", metrics=\"accuracy\")\n",
    "model.fit(xtrain, xtrain, batch_size=100, verbose=1, epochs=100, validation_data=[xvalid, xvalid], validation_batch_size=100)"
   ]
  },
  {
   "cell_type": "code",
   "execution_count": null,
   "metadata": {},
   "outputs": [],
   "source": [
    "model.save(\"./model.h5\")\n",
    "encoder.save(\"./encoder.h5\")"
   ]
  }
 ],
 "metadata": {
  "kernelspec": {
   "display_name": "Python 3.8.5 ('Sab')",
   "language": "python",
   "name": "python3"
  },
  "language_info": {
   "codemirror_mode": {
    "name": "ipython",
    "version": 3
   },
   "file_extension": ".py",
   "mimetype": "text/x-python",
   "name": "python",
   "nbconvert_exporter": "python",
   "pygments_lexer": "ipython3",
   "version": "3.8.5"
  },
  "orig_nbformat": 4,
  "vscode": {
   "interpreter": {
    "hash": "edcbdc4d886d2a44df5355e1013a050975e64a8a5e81397d04c2253b5ba5d091"
   }
  }
 },
 "nbformat": 4,
 "nbformat_minor": 2
}
